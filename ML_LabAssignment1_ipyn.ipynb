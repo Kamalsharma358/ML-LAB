{
  "nbformat": 4,
  "nbformat_minor": 0,
  "metadata": {
    "colab": {
      "provenance": [],
      "authorship_tag": "ABX9TyMMXyDRo/V3jYZfhENGtEow",
      "include_colab_link": true
    },
    "kernelspec": {
      "name": "python3",
      "display_name": "Python 3"
    },
    "language_info": {
      "name": "python"
    }
  },
  "cells": [
    {
      "cell_type": "markdown",
      "metadata": {
        "id": "view-in-github",
        "colab_type": "text"
      },
      "source": [
        "<a href=\"https://colab.research.google.com/github/Kamalsharma358/ML-LAB/blob/main/ML_LabAssignment1_ipyn.ipynb\" target=\"_parent\"><img src=\"https://colab.research.google.com/assets/colab-badge.svg\" alt=\"Open In Colab\"/></a>"
      ]
    },
    {
      "cell_type": "markdown",
      "source": [
        "\n",
        "                                                       Question : 1"
      ],
      "metadata": {
        "id": "QYYzfo8o53A5"
      }
    },
    {
      "cell_type": "markdown",
      "source": [
        "(a) Reverse the NumPy array: arr = np.array([1, 2, 3, 6, 4, 5])"
      ],
      "metadata": {
        "id": "z7xgdYCk4_Tu"
      }
    },
    {
      "cell_type": "code",
      "source": [
        "import numpy as np\n",
        "\n",
        "arr = np.array([1, 2, 3, 6, 4, 5])\n",
        "reversed_arr = arr[::-1]\n",
        "\n",
        "print(reversed_arr)"
      ],
      "metadata": {
        "colab": {
          "base_uri": "https://localhost:8080/"
        },
        "id": "smPP7Ifs5IWX",
        "outputId": "b21b2091-c27a-4ac5-b0f6-074fd56ea292"
      },
      "execution_count": null,
      "outputs": [
        {
          "output_type": "stream",
          "name": "stdout",
          "text": [
            "[5 4 6 3 2 1]\n"
          ]
        }
      ]
    },
    {
      "cell_type": "markdown",
      "source": [
        "\n",
        "(b) Flatten the NumPy arr: array1 = np.array([[1, 2, 3], [2, 4, 5], [1, 2, 3]]) using any two\n",
        "NumPy in-built methods"
      ],
      "metadata": {
        "id": "ahQMSpiB5vXg"
      }
    },
    {
      "cell_type": "code",
      "source": [
        "import numpy as np\n",
        "\n",
        "array1 = np.array([[1, 2, 3], [2, 4, 5], [1, 2, 3]])\n",
        "flattened_array1 = array1.flatten()\n",
        "\n",
        "print(flattened_array1)"
      ],
      "metadata": {
        "colab": {
          "base_uri": "https://localhost:8080/"
        },
        "id": "K3dSdAni5q9b",
        "outputId": "997c91dd-832b-476c-b8e7-24c8a790beee"
      },
      "execution_count": null,
      "outputs": [
        {
          "output_type": "stream",
          "name": "stdout",
          "text": [
            "[1 2 3 2 4 5 1 2 3]\n"
          ]
        }
      ]
    },
    {
      "cell_type": "markdown",
      "source": [
        "(c) Compare the following numpy arrays:\n",
        "arr1 = np.array([[1, 2], [3, 4]])\n",
        "arr2 = np.array([[1, 2], [3, 4]])"
      ],
      "metadata": {
        "id": "cIvZ89km6BCZ"
      }
    },
    {
      "cell_type": "code",
      "source": [
        "import numpy as np\n",
        "\n",
        "arr1 = np.array([[1, 2], [3, 4]])\n",
        "arr2 = np.array([[1, 2], [3, 4]])\n",
        "\n",
        "\n",
        "comparison = np.equal(arr1, arr2)\n",
        "\n",
        "\n",
        "arrays_equal = np.array_equal(arr1, arr2)\n",
        "\n",
        "print(\"Element-wise comparison:\\n\", comparison)\n",
        "print(\"Are the arrays equal?\", arrays_equal)"
      ],
      "metadata": {
        "colab": {
          "base_uri": "https://localhost:8080/"
        },
        "id": "Z17VktQ06D5F",
        "outputId": "c31e6df7-ce1b-462c-e519-0ae72a8849f2"
      },
      "execution_count": null,
      "outputs": [
        {
          "output_type": "stream",
          "name": "stdout",
          "text": [
            "Element-wise comparison:\n",
            " [[ True  True]\n",
            " [ True  True]]\n",
            "Are the arrays equal? True\n"
          ]
        }
      ]
    },
    {
      "cell_type": "markdown",
      "source": [
        "(d) Find the most frequent value and their indice(s) in the following arrays:\n",
        "i. x = np.array([1,2,3,4,5,1,2,1,1,1])\n",
        "ii. y = np.array([1, 1, 1, 2, 3, 4, 2, 4, 3, 3, ])\n"
      ],
      "metadata": {
        "id": "0ebTWxwi6EZH"
      }
    },
    {
      "cell_type": "code",
      "source": [
        "x = np.array([1, 2, 3, 4, 5, 1, 2, 1, 1, 1])\n",
        "unique, counts = np.unique(x, return_counts=True)\n",
        "most_frequent_value = unique[np.argmax(counts)]\n",
        "indices = np.where(x == most_frequent_value)[0]\n",
        "\n",
        "print(\"Most frequent value:\", most_frequent_value)\n",
        "print(\"Indices of the most frequent value:\", indices)"
      ],
      "metadata": {
        "colab": {
          "base_uri": "https://localhost:8080/"
        },
        "id": "W4nivcQv6IwF",
        "outputId": "e460dc35-c3ed-4fc2-ead7-74207634e3d5"
      },
      "execution_count": null,
      "outputs": [
        {
          "output_type": "stream",
          "name": "stdout",
          "text": [
            "Most frequent value: 1\n",
            "Indices of the most frequent value: [0 5 7 8 9]\n"
          ]
        }
      ]
    },
    {
      "cell_type": "code",
      "source": [
        "y = np.array([1, 1, 1, 2, 3, 4, 2, 4, 3, 3])\n",
        "unique, counts = np.unique(y, return_counts=True)\n",
        "most_frequent_value = unique[np.argmax(counts)]\n",
        "indices = np.where(y == most_frequent_value)[0]\n",
        "\n",
        "print(\"Most frequent value:\", most_frequent_value)\n",
        "print(\"Indices of the most frequent value:\", indices)"
      ],
      "metadata": {
        "colab": {
          "base_uri": "https://localhost:8080/"
        },
        "id": "51vRPGTS7M_V",
        "outputId": "2774a4a2-93a1-4f2a-e2fe-5b17e5821418"
      },
      "execution_count": null,
      "outputs": [
        {
          "output_type": "stream",
          "name": "stdout",
          "text": [
            "Most frequent value: 1\n",
            "Indices of the most frequent value: [0 1 2]\n"
          ]
        }
      ]
    },
    {
      "cell_type": "markdown",
      "source": [
        "(e) For the array gfg = np.matrix('[4, 1, 9; 12, 3, 1; 4, 5, 6]'), find\n",
        "i. Sum of all elements\n",
        "ii. Sum of all elements row-wise\n",
        "iii. Sum of all elements column-wise"
      ],
      "metadata": {
        "id": "ZwbqMFKy6Jfb"
      }
    },
    {
      "cell_type": "code",
      "source": [
        "gfg = np.matrix('[4, 1, 9; 12, 3, 1; 4, 5, 6]')\n",
        "\n",
        "\n",
        "total_sum = np.sum(gfg)\n",
        "\n",
        "\n",
        "row_sum = np.sum(gfg, axis=1)\n",
        "\n",
        "\n",
        "col_sum = np.sum(gfg, axis=0)\n",
        "\n",
        "print(\"Sum of all elements:\", total_sum)\n",
        "print(\"Sum of all elements row-wise:\", row_sum)\n",
        "print(\"Sum of all elements column-wise:\", col_sum)"
      ],
      "metadata": {
        "colab": {
          "base_uri": "https://localhost:8080/"
        },
        "id": "ShIkObsu6Ou3",
        "outputId": "8e97bcd4-61af-4596-d640-0a1bdc9a3f76"
      },
      "execution_count": null,
      "outputs": [
        {
          "output_type": "stream",
          "name": "stdout",
          "text": [
            "Sum of all elements: 45\n",
            "Sum of all elements row-wise: [[14]\n",
            " [16]\n",
            " [15]]\n",
            "Sum of all elements column-wise: [[20  9 16]]\n"
          ]
        }
      ]
    },
    {
      "cell_type": "markdown",
      "source": [
        "(f) For the matrix: n_array = np.array([[55, 25, 15],[30, 44, 2],[11, 45, 77]]), find\n",
        "i. Sum of diagonal elements\n",
        "ii. Eigen values of matrix\n",
        "iii. Eigen vectors of matrix\n",
        "iv. Inverse of matrix\n",
        "v. Determinant of matrix"
      ],
      "metadata": {
        "id": "JLzbXk6p6keZ"
      }
    },
    {
      "cell_type": "code",
      "source": [
        "import numpy as np\n",
        "\n",
        "\n",
        "n_array = np.array([[55, 25, 15], [30, 44, 2], [11, 45, 77]])\n",
        "\n",
        "\n",
        "sum_diagonal = np.trace(n_array)\n",
        "print(f\"Sum of diagonal elements: {sum_diagonal}\")\n",
        "\n",
        "\n",
        "eigenvalues, eigenvectors = np.linalg.eig(n_array)\n",
        "print(f\"Eigenvalues of the matrix: {eigenvalues}\")\n",
        "\n",
        "\n",
        "print(f\"Eigenvectors of the matrix:\\n{eigenvectors}\")\n",
        "\n",
        "\n",
        "inverse_matrix = np.linalg.inv(n_array)\n",
        "print(f\"Inverse of the matrix:\\n{inverse_matrix}\")\n",
        "\n",
        "\n",
        "determinant = np.linalg.det(n_array)\n",
        "print(f\"Determinant of the matrix: {determinant}\")"
      ],
      "metadata": {
        "id": "EYe6UCoK6SoN",
        "colab": {
          "base_uri": "https://localhost:8080/"
        },
        "outputId": "fa0271c6-524a-434f-c8c0-f4b3e2f3d69a"
      },
      "execution_count": null,
      "outputs": [
        {
          "output_type": "stream",
          "name": "stdout",
          "text": [
            "Sum of diagonal elements: 176\n",
            "Eigenvalues of the matrix: [98.16835147 28.097044   49.73460452]\n",
            "Eigenvectors of the matrix:\n",
            "[[ 0.4574917   0.34637121 -0.15017693]\n",
            " [ 0.28447814 -0.72784061 -0.4852124 ]\n",
            " [ 0.84248058  0.59184038  0.8614034 ]]\n",
            "Inverse of the matrix:\n",
            "[[ 0.02404141 -0.00911212 -0.00444671]\n",
            " [-0.01667882  0.02966905  0.0024785 ]\n",
            " [ 0.00631287 -0.01603732  0.01217379]]\n",
            "Determinant of the matrix: 137180.0000000001\n"
          ]
        }
      ]
    },
    {
      "cell_type": "markdown",
      "source": [
        "(g) Multiply the following matrices and also find covariance between matrices using NumPy:\n",
        "i. p = [[1, 2], [2, 3]]\n",
        "q = [[4, 5], [6, 7]]\n",
        "ii. p = [[1, 2], [2, 3], [4, 5]]\n",
        "q = [[4, 5, 1], [6, 7, 2]]\n",
        "(h) For the matrices: x = np.array([[2, 3"
      ],
      "metadata": {
        "id": "biNO8Vsi6TRu"
      }
    },
    {
      "cell_type": "code",
      "source": [
        "import numpy as np\n",
        "\n",
        "\n",
        "p1 = np.array([[1, 2], [2, 3]])\n",
        "q1 = np.array([[4, 5], [6, 7]])\n",
        "\n",
        "product1 = np.dot(p1, q1)\n",
        "p1_flat = p1.flatten()\n",
        "q1_flat = q1.flatten()\n",
        "covariance1 = np.cov(p1_flat, q1_flat)\n",
        "\n",
        "print(\"First case:\")\n",
        "print(\"Matrix multiplication result:\\n\", product1)\n",
        "print(\"Covariance matrix:\\n\", covariance1)\n",
        "print()\n",
        "\n",
        "p2 = np.array([[1, 2], [2, 3], [4, 5]])\n",
        "q2 = np.array([[4, 5, 1], [6, 7, 2]])\n",
        "\n",
        "product2 = np.dot(p2, q2)\n",
        "p2_flat = p2.flatten()\n",
        "q2_flat = q2.flatten()\n",
        "covariance2 = np.cov(p2_flat, q2_flat)\n",
        "\n",
        "print(\"Second case:\")\n",
        "print(\"Matrix multiplication result:\\n\", product2)\n",
        "print(\"Covariance matrix:\\n\", covariance2)"
      ],
      "metadata": {
        "colab": {
          "base_uri": "https://localhost:8080/"
        },
        "id": "D_mggm547viL",
        "outputId": "53170ad4-0c17-44eb-96b8-59c6220c444b"
      },
      "execution_count": null,
      "outputs": [
        {
          "output_type": "stream",
          "name": "stdout",
          "text": [
            "First case:\n",
            "Matrix multiplication result:\n",
            " [[16 19]\n",
            " [26 31]]\n",
            "Covariance matrix:\n",
            " [[0.66666667 1.        ]\n",
            " [1.         1.66666667]]\n",
            "\n",
            "Second case:\n",
            "Matrix multiplication result:\n",
            " [[16 19  5]\n",
            " [26 31  8]\n",
            " [46 55 14]]\n",
            "Covariance matrix:\n",
            " [[2.16666667 0.23333333]\n",
            " [0.23333333 5.36666667]]\n"
          ]
        }
      ]
    },
    {
      "cell_type": "markdown",
      "source": [
        "(h) For the matrices: x = np.array([[2, 3, 4], [3, 2, 9]]); y = np.array([[1, 5, 0], [5, 10, 3]]),\n",
        "find inner, outer and cartesian product?\n"
      ],
      "metadata": {
        "id": "lS3queHL6oiV"
      }
    },
    {
      "cell_type": "code",
      "source": [
        "x = np.array([[2, 3, 4], [3, 2, 9]])\n",
        "y = np.array([[1, 5, 0], [5, 10, 3]])\n",
        "\n",
        "inner_product = np.inner(x, y)\n",
        "\n",
        "\n",
        "outer_product = np.outer(x, y)\n",
        "\n",
        "\n",
        "cartesian_product = np.cross(x, y)\n",
        "\n",
        "print(\"Inner product:\\n\", inner_product)\n",
        "print(\"Outer product:\\n\", outer_product)\n",
        "print(\"Cartesian product:\\n\", cartesian_product)"
      ],
      "metadata": {
        "colab": {
          "base_uri": "https://localhost:8080/"
        },
        "id": "BhZkEjI18IXF",
        "outputId": "d4e17a4d-0e27-4a01-f3d4-d09c35be9b18"
      },
      "execution_count": null,
      "outputs": [
        {
          "output_type": "stream",
          "name": "stdout",
          "text": [
            "Inner product:\n",
            " [[17 52]\n",
            " [13 62]]\n",
            "Outer product:\n",
            " [[ 2 10  0 10 20  6]\n",
            " [ 3 15  0 15 30  9]\n",
            " [ 4 20  0 20 40 12]\n",
            " [ 3 15  0 15 30  9]\n",
            " [ 2 10  0 10 20  6]\n",
            " [ 9 45  0 45 90 27]]\n",
            "Cartesian product:\n",
            " [[-20   4   7]\n",
            " [-84  36  20]]\n"
          ]
        }
      ]
    },
    {
      "cell_type": "markdown",
      "source": [
        "                                             Question :2"
      ],
      "metadata": {
        "id": "GCkz8Qd580Yu"
      }
    },
    {
      "cell_type": "markdown",
      "source": [
        "(a) For the array: array = np.array([[1, -2, 3],[-4, 5, -6]])\n",
        "i. Find element-wise absolute value\n",
        "ii. Find the 25th, 50th, and 75th percentile of flattened array, for each column, for each\n",
        "row.\n",
        "iii. Mean, Median and Standard Deviation of flattened array, of each column, and\n",
        "each row"
      ],
      "metadata": {
        "id": "ZsMQjYw3-YEn"
      }
    },
    {
      "cell_type": "code",
      "source": [
        "import numpy as np\n",
        "\n",
        "array = np.array([[1, -2, 3], [-4, 5, -6]])\n",
        "\n",
        "\n",
        "absolute_array = np.abs(array)\n",
        "print(\"Element-wise absolute value:\\n\", absolute_array)\n",
        "\n",
        "\n",
        "flattened_array = array.flatten()\n",
        "percentiles_flattened = np.percentile(flattened_array, [25, 50, 75])\n",
        "print(\"Percentiles (25th, 50th, 75th) for flattened array:\", percentiles_flattened)\n",
        "\n",
        "\n",
        "percentiles_columns = np.percentile(array, [25, 50, 75], axis=0)\n",
        "print(\"Percentiles (25th, 50th, 75th) for each column:\\n\", percentiles_columns)\n",
        "\n",
        "\n",
        "percentiles_rows = np.percentile(array, [25, 50, 75], axis=1)\n",
        "print(\"Percentiles (25th, 50th, 75th) for each row:\\n\", percentiles_rows)\n",
        "\n",
        "\n",
        "mean_flattened = np.mean(flattened_array)\n",
        "median_flattened = np.median(flattened_array)\n",
        "std_flattened = np.std(flattened_array)\n",
        "print(\"Mean for flattened array:\", mean_flattened)\n",
        "print(\"Median for flattened array:\", median_flattened)\n",
        "print(\"Standard Deviation for flattened array:\", std_flattened)\n",
        "\n",
        "\n",
        "mean_columns = np.mean(array, axis=0)\n",
        "median_columns = np.median(array, axis=0)\n",
        "std_columns = np.std(array, axis=0)\n",
        "print(\"Mean for each column:\", mean_columns)\n",
        "print(\"Median for each column:\", median_columns)\n",
        "print(\"Standard Deviation for each column:\", std_columns)\n",
        "\n",
        "\n",
        "mean_rows = np.mean(array, axis=1)\n",
        "median_rows = np.median(array, axis=1)\n",
        "std_rows = np.std(array, axis=1)\n",
        "print(\"Mean for each row:\", mean_rows)\n",
        "print(\"Median for each row:\", median_rows)\n",
        "print(\"Standard Deviation for each row:\", std_rows)"
      ],
      "metadata": {
        "colab": {
          "base_uri": "https://localhost:8080/"
        },
        "id": "FlUgStAm-cD6",
        "outputId": "6a42b885-75a5-4a2e-ff5a-faa0180b2fb2"
      },
      "execution_count": null,
      "outputs": [
        {
          "output_type": "stream",
          "name": "stdout",
          "text": [
            "Element-wise absolute value:\n",
            " [[1 2 3]\n",
            " [4 5 6]]\n",
            "Percentiles (25th, 50th, 75th) for flattened array: [-3.5 -0.5  2.5]\n",
            "Percentiles (25th, 50th, 75th) for each column:\n",
            " [[-2.75 -0.25 -3.75]\n",
            " [-1.5   1.5  -1.5 ]\n",
            " [-0.25  3.25  0.75]]\n",
            "Percentiles (25th, 50th, 75th) for each row:\n",
            " [[-0.5 -5. ]\n",
            " [ 1.  -4. ]\n",
            " [ 2.   0.5]]\n",
            "Mean for flattened array: -0.5\n",
            "Median for flattened array: -0.5\n",
            "Standard Deviation for flattened array: 3.8622100754188224\n",
            "Mean for each column: [-1.5  1.5 -1.5]\n",
            "Median for each column: [-1.5  1.5 -1.5]\n",
            "Standard Deviation for each column: [2.5 3.5 4.5]\n",
            "Mean for each row: [ 0.66666667 -1.66666667]\n",
            "Median for each row: [ 1. -4.]\n",
            "Standard Deviation for each row: [2.05480467 4.78423336]\n"
          ]
        }
      ]
    },
    {
      "cell_type": "markdown",
      "source": [
        "(b) For the array: a = np.array([-1.8, -1.6, -0.5, 0.5,1.6, 1.8, 3.0]). Find floor, ceiling\n",
        "and truncated value, rounded values"
      ],
      "metadata": {
        "id": "EeRvdqJO-pnD"
      }
    },
    {
      "cell_type": "code",
      "source": [
        "import numpy as np\n",
        "\n",
        "a = np.array([-1.8, -1.6, -0.5, 0.5, 1.6, 1.8, 3.0])\n",
        "\n",
        "\n",
        "floor_values = np.floor(a)\n",
        "print(\"Floor values:\", floor_values)\n",
        "\n",
        "ceiling_values = np.ceil(a)\n",
        "print(\"Ceiling values:\", ceiling_values)\n",
        "\n",
        "truncated_values = np.trunc(a)\n",
        "print(\"Truncated values:\", truncated_values)\n",
        "\n",
        "\n",
        "rounded_values = np.round(a)\n",
        "print(\"Rounded values:\", rounded_values)"
      ],
      "metadata": {
        "colab": {
          "base_uri": "https://localhost:8080/"
        },
        "id": "7QQgdLZ5-q6e",
        "outputId": "45c6fe25-0b33-41ec-aa61-bf0f0f9b8d1e"
      },
      "execution_count": null,
      "outputs": [
        {
          "output_type": "stream",
          "name": "stdout",
          "text": [
            "Floor values: [-2. -2. -1.  0.  1.  1.  3.]\n",
            "Ceiling values: [-1. -1. -0.  1.  2.  2.  3.]\n",
            "Truncated values: [-1. -1. -0.  0.  1.  1.  3.]\n",
            "Rounded values: [-2. -2. -0.  0.  2.  2.  3.]\n"
          ]
        }
      ]
    },
    {
      "cell_type": "markdown",
      "source": [
        "                                          Question:3"
      ],
      "metadata": {
        "id": "3hDSUWDi_Cct"
      }
    },
    {
      "cell_type": "markdown",
      "source": [
        "(a) For the array: array = np.array([10, 52, 62, 16, 16, 54, 453]), find\n",
        "i. Sorted array\n",
        "ii. Indices of sorted array\n",
        "iii. 4 smallest elements\n",
        "iv. 5 largest elements"
      ],
      "metadata": {
        "id": "jW8nUNED_Hm5"
      }
    },
    {
      "cell_type": "code",
      "source": [
        "import numpy as np\n",
        "\n",
        "\n",
        "array = np.array([10, 52, 62, 16, 16, 54, 453])\n",
        "\n",
        "sorted_array = np.sort(array)\n",
        "\n",
        "\n",
        "sorted_indices = np.argsort(array)\n",
        "\n",
        "\n",
        "smallest_elements = sorted_array[:4]\n",
        "\n",
        "\n",
        "largest_elements = sorted_array[-5:]\n",
        "\n",
        "print(\"Sorted array:\", sorted_array)\n",
        "print(\"Indices of sorted array:\", sorted_indices)\n",
        "print(\"4 smallest elements:\", smallest_elements)\n",
        "print(\"5 largest elements:\", largest_elements)"
      ],
      "metadata": {
        "colab": {
          "base_uri": "https://localhost:8080/"
        },
        "id": "DxXvUyJU_Lr5",
        "outputId": "5de1feb8-0ef6-42d8-88ea-ecd9c7290bb6"
      },
      "execution_count": null,
      "outputs": [
        {
          "output_type": "stream",
          "name": "stdout",
          "text": [
            "Sorted array: [ 10  16  16  52  54  62 453]\n",
            "Indices of sorted array: [0 3 4 1 5 2 6]\n",
            "4 smallest elements: [10 16 16 52]\n",
            "5 largest elements: [ 16  52  54  62 453]\n"
          ]
        }
      ]
    },
    {
      "cell_type": "markdown",
      "source": [
        "(b) For the array: array = np.array([1.0, 1.2, 2.2, 2.0, 3.0, 2.0]), find\n",
        "i. Integer elements only\n",
        "ii. Float elements only\n"
      ],
      "metadata": {
        "id": "QNLij1bY_MG-"
      }
    },
    {
      "cell_type": "code",
      "source": [
        "import numpy as np\n",
        "\n",
        "\n",
        "array = np.array([1.0, 1.2, 2.2, 2.0, 3.0, 2.0])\n",
        "\n",
        "\n",
        "integer_elements = array[array == array.astype(int)]\n",
        "\n",
        "float_elements = array[array != array.astype(int)]\n",
        "\n",
        "\n",
        "print(\"Integer elements only:\", integer_elements)\n",
        "print(\"Float elements only:\", float_elements)"
      ],
      "metadata": {
        "colab": {
          "base_uri": "https://localhost:8080/"
        },
        "id": "4fIW6dV8_QH8",
        "outputId": "fe966140-69ed-42e2-b6c3-4bc7f1ebf21c"
      },
      "execution_count": null,
      "outputs": [
        {
          "output_type": "stream",
          "name": "stdout",
          "text": [
            "Integer elements only: [1. 2. 3. 2.]\n",
            "Float elements only: [1.2 2.2]\n"
          ]
        }
      ]
    },
    {
      "cell_type": "markdown",
      "source": [
        "                                          Question :4"
      ],
      "metadata": {
        "id": "yXK2bQkanIzI"
      }
    },
    {
      "cell_type": "markdown",
      "source": [
        "(a) Write a function named img_to_array(path) that reads an image from a specified path and\n",
        "save it as text file on local machine? (Note: use separate cases for RGB and Grey Scale\n",
        "images)\n",
        "(b) Load the saved file into jupyter notebook?"
      ],
      "metadata": {
        "id": "6krGFgJnnJ7v"
      }
    },
    {
      "cell_type": "code",
      "source": [
        "from PIL import Image\n",
        "import numpy as np\n",
        "\n",
        "\n",
        "# rgba_image = Image.open('/content/image_rgb.png')\n",
        "# rgb_image = rgba_image.convert('RGB')\n",
        "# rgb_image.save('image_rgb.png')\n",
        "\n",
        "\n",
        "\n",
        "\n",
        "def img_to_array(path):\n",
        "    try:\n",
        "        img = Image.open(path)\n",
        "        img_array = np.array(img)\n",
        "\n",
        "        if img.mode == 'RGB':\n",
        "            np.savetxt('image_rgb.txt', img_array.reshape(-1, 3), fmt='%d')\n",
        "            print(\"RGB image array saved as 'image_rgb.txt'\")\n",
        "        elif img.mode == 'L':\n",
        "            np.savetxt('image_grey.txt', img_array, fmt='%d')\n",
        "            print(\"Grayscale image array saved as 'image_grey.txt'\")\n",
        "        else:\n",
        "            print(\"Unsupported image mode:\", img.mode)\n",
        "    except Exception as e:\n",
        "        print(\"Error:\", e)\n",
        "\n",
        "# Example usage\n",
        "img_to_array('/content/image_rgb.png')\n",
        "\n",
        "\n",
        "# b)\n",
        "\n",
        "\n",
        "\n",
        "# # Assuming the image was saved as image_rgb.txt or image_grey.txt\n",
        "# img_array_loaded_rgb = np.loadtxt('image_rgb.txt').reshape(-1, 3)\n",
        "# img_array_loaded_grey = np.loadtxt('image_grey.txt')\n",
        "# print(\"Loaded RGB image array:\", img_array_loaded_rgb)\n",
        "# print(\"Loaded Grey Scale image array:\", img_array_loaded_grey)\n"
      ],
      "metadata": {
        "colab": {
          "base_uri": "https://localhost:8080/"
        },
        "id": "cyQqFF0qnUJY",
        "outputId": "2eb9e424-eeb4-40e9-da9e-1fe192f13902"
      },
      "execution_count": null,
      "outputs": [
        {
          "output_type": "stream",
          "name": "stdout",
          "text": [
            "Error: [Errno 2] No such file or directory: '/content/image_rgb.png'\n"
          ]
        }
      ]
    }
  ]
}